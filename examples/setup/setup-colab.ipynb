{
 "cells": [
  {
   "cell_type": "markdown",
   "metadata": {},
   "source": [
    "# Setup DLPOLY 5 on Google's Collab"
   ]
  },
  {
   "cell_type": "code",
   "execution_count": null,
   "metadata": {},
   "outputs": [],
   "source": [
    "%%bash\n",
    "\n",
    "git clone https://gitlab.com/ccp5/dl-poly.git\n",
    "\n",
    "cmake -S dl-poly -Bbuild-dlpoly -DCMAKE_BUILD_TYPE=Release\n",
    "cmake --build build-dlpoly\n",
    "cmake --install build-dlpoly\n",
    "\n",
    "python3 -m pip install dlpoly-py matplotlib py3Dmol ipywidgets git+https://gitlab.com/ase/ase.git"
   ]
  },
  {
   "cell_type": "markdown",
   "metadata": {},
   "source": [
    "if no errors are reported you are all setup. you can see where DLPOLY.Z is installed by executing next cell "
   ]
  },
  {
   "cell_type": "code",
   "execution_count": null,
   "metadata": {},
   "outputs": [],
   "source": [
    "!which DLPOLY.Z"
   ]
  }
 ],
 "metadata": {
  "language_info": {
   "name": "python"
  },
  "orig_nbformat": 4
 },
 "nbformat": 4,
 "nbformat_minor": 2
}
